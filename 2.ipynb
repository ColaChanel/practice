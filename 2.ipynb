{
 "cells": [
  {
   "cell_type": "markdown",
   "id": "97340a1e",
   "metadata": {},
   "source": [
    "# Практическая работа 2. Работа в Google Colab с библиотекой Keras"
   ]
  },
  {
   "cell_type": "code",
   "execution_count": 1,
   "id": "f1b0b3f5",
   "metadata": {},
   "outputs": [
    {
     "name": "stdout",
     "output_type": "stream",
     "text": [
      "Requirement already satisfied: tensorflow in c:\\users\\igorv\\anaconda3\\lib\\site-packages (2.13.0)\n",
      "Requirement already satisfied: tensorflow-intel==2.13.0 in c:\\users\\igorv\\anaconda3\\lib\\site-packages (from tensorflow) (2.13.0)\n",
      "Requirement already satisfied: astunparse>=1.6.0 in c:\\users\\igorv\\anaconda3\\lib\\site-packages (from tensorflow-intel==2.13.0->tensorflow) (1.6.3)\n",
      "Requirement already satisfied: numpy<=1.24.3,>=1.22 in c:\\users\\igorv\\anaconda3\\lib\\site-packages (from tensorflow-intel==2.13.0->tensorflow) (1.23.5)\n",
      "Requirement already satisfied: absl-py>=1.0.0 in c:\\users\\igorv\\anaconda3\\lib\\site-packages (from tensorflow-intel==2.13.0->tensorflow) (1.4.0)\n",
      "Requirement already satisfied: opt-einsum>=2.3.2 in c:\\users\\igorv\\anaconda3\\lib\\site-packages (from tensorflow-intel==2.13.0->tensorflow) (3.3.0)\n",
      "Requirement already satisfied: keras<2.14,>=2.13.1 in c:\\users\\igorv\\anaconda3\\lib\\site-packages (from tensorflow-intel==2.13.0->tensorflow) (2.13.1)\n",
      "Requirement already satisfied: wrapt>=1.11.0 in c:\\users\\igorv\\anaconda3\\lib\\site-packages (from tensorflow-intel==2.13.0->tensorflow) (1.14.1)\n",
      "Requirement already satisfied: six>=1.12.0 in c:\\users\\igorv\\anaconda3\\lib\\site-packages (from tensorflow-intel==2.13.0->tensorflow) (1.16.0)\n",
      "Requirement already satisfied: google-pasta>=0.1.1 in c:\\users\\igorv\\anaconda3\\lib\\site-packages (from tensorflow-intel==2.13.0->tensorflow) (0.2.0)\n",
      "Requirement already satisfied: setuptools in c:\\users\\igorv\\anaconda3\\lib\\site-packages (from tensorflow-intel==2.13.0->tensorflow) (65.6.3)\n",
      "Requirement already satisfied: tensorboard<2.14,>=2.13 in c:\\users\\igorv\\anaconda3\\lib\\site-packages (from tensorflow-intel==2.13.0->tensorflow) (2.13.0)\n",
      "Requirement already satisfied: flatbuffers>=23.1.21 in c:\\users\\igorv\\anaconda3\\lib\\site-packages (from tensorflow-intel==2.13.0->tensorflow) (23.5.26)\n",
      "Requirement already satisfied: libclang>=13.0.0 in c:\\users\\igorv\\anaconda3\\lib\\site-packages (from tensorflow-intel==2.13.0->tensorflow) (16.0.6)\n",
      "Requirement already satisfied: tensorflow-io-gcs-filesystem>=0.23.1 in c:\\users\\igorv\\anaconda3\\lib\\site-packages (from tensorflow-intel==2.13.0->tensorflow) (0.31.0)\n",
      "Requirement already satisfied: tensorflow-estimator<2.14,>=2.13.0 in c:\\users\\igorv\\anaconda3\\lib\\site-packages (from tensorflow-intel==2.13.0->tensorflow) (2.13.0)\n",
      "Requirement already satisfied: h5py>=2.9.0 in c:\\users\\igorv\\anaconda3\\lib\\site-packages (from tensorflow-intel==2.13.0->tensorflow) (3.7.0)\n",
      "Requirement already satisfied: grpcio<2.0,>=1.24.3 in c:\\users\\igorv\\anaconda3\\lib\\site-packages (from tensorflow-intel==2.13.0->tensorflow) (1.56.2)\n",
      "Requirement already satisfied: packaging in c:\\users\\igorv\\anaconda3\\lib\\site-packages (from tensorflow-intel==2.13.0->tensorflow) (22.0)\n",
      "Requirement already satisfied: gast<=0.4.0,>=0.2.1 in c:\\users\\igorv\\anaconda3\\lib\\site-packages (from tensorflow-intel==2.13.0->tensorflow) (0.4.0)\n",
      "Requirement already satisfied: termcolor>=1.1.0 in c:\\users\\igorv\\anaconda3\\lib\\site-packages (from tensorflow-intel==2.13.0->tensorflow) (2.3.0)\n",
      "Requirement already satisfied: typing-extensions<4.6.0,>=3.6.6 in c:\\users\\igorv\\anaconda3\\lib\\site-packages (from tensorflow-intel==2.13.0->tensorflow) (4.4.0)\n",
      "Requirement already satisfied: protobuf!=4.21.0,!=4.21.1,!=4.21.2,!=4.21.3,!=4.21.4,!=4.21.5,<5.0.0dev,>=3.20.3 in c:\\users\\igorv\\anaconda3\\lib\\site-packages (from tensorflow-intel==2.13.0->tensorflow) (4.24.0)\n",
      "Requirement already satisfied: wheel<1.0,>=0.23.0 in c:\\users\\igorv\\anaconda3\\lib\\site-packages (from astunparse>=1.6.0->tensorflow-intel==2.13.0->tensorflow) (0.38.4)\n",
      "Requirement already satisfied: tensorboard-data-server<0.8.0,>=0.7.0 in c:\\users\\igorv\\anaconda3\\lib\\site-packages (from tensorboard<2.14,>=2.13->tensorflow-intel==2.13.0->tensorflow) (0.7.1)\n",
      "Requirement already satisfied: google-auth<3,>=1.6.3 in c:\\users\\igorv\\anaconda3\\lib\\site-packages (from tensorboard<2.14,>=2.13->tensorflow-intel==2.13.0->tensorflow) (2.22.0)\n",
      "Requirement already satisfied: requests<3,>=2.21.0 in c:\\users\\igorv\\anaconda3\\lib\\site-packages (from tensorboard<2.14,>=2.13->tensorflow-intel==2.13.0->tensorflow) (2.28.1)\n",
      "Requirement already satisfied: werkzeug>=1.0.1 in c:\\users\\igorv\\anaconda3\\lib\\site-packages (from tensorboard<2.14,>=2.13->tensorflow-intel==2.13.0->tensorflow) (2.2.2)\n",
      "Requirement already satisfied: google-auth-oauthlib<1.1,>=0.5 in c:\\users\\igorv\\anaconda3\\lib\\site-packages (from tensorboard<2.14,>=2.13->tensorflow-intel==2.13.0->tensorflow) (1.0.0)\n",
      "Requirement already satisfied: markdown>=2.6.8 in c:\\users\\igorv\\anaconda3\\lib\\site-packages (from tensorboard<2.14,>=2.13->tensorflow-intel==2.13.0->tensorflow) (3.4.1)\n",
      "Requirement already satisfied: rsa<5,>=3.1.4 in c:\\users\\igorv\\anaconda3\\lib\\site-packages (from google-auth<3,>=1.6.3->tensorboard<2.14,>=2.13->tensorflow-intel==2.13.0->tensorflow) (4.9)\n",
      "Requirement already satisfied: cachetools<6.0,>=2.0.0 in c:\\users\\igorv\\anaconda3\\lib\\site-packages (from google-auth<3,>=1.6.3->tensorboard<2.14,>=2.13->tensorflow-intel==2.13.0->tensorflow) (5.3.1)\n",
      "Requirement already satisfied: urllib3<2.0 in c:\\users\\igorv\\anaconda3\\lib\\site-packages (from google-auth<3,>=1.6.3->tensorboard<2.14,>=2.13->tensorflow-intel==2.13.0->tensorflow) (1.26.14)\n",
      "Requirement already satisfied: pyasn1-modules>=0.2.1 in c:\\users\\igorv\\anaconda3\\lib\\site-packages (from google-auth<3,>=1.6.3->tensorboard<2.14,>=2.13->tensorflow-intel==2.13.0->tensorflow) (0.2.8)\n",
      "Requirement already satisfied: requests-oauthlib>=0.7.0 in c:\\users\\igorv\\anaconda3\\lib\\site-packages (from google-auth-oauthlib<1.1,>=0.5->tensorboard<2.14,>=2.13->tensorflow-intel==2.13.0->tensorflow) (1.3.1)\n",
      "Requirement already satisfied: certifi>=2017.4.17 in c:\\users\\igorv\\anaconda3\\lib\\site-packages (from requests<3,>=2.21.0->tensorboard<2.14,>=2.13->tensorflow-intel==2.13.0->tensorflow) (2023.7.22)\n",
      "Requirement already satisfied: charset-normalizer<3,>=2 in c:\\users\\igorv\\anaconda3\\lib\\site-packages (from requests<3,>=2.21.0->tensorboard<2.14,>=2.13->tensorflow-intel==2.13.0->tensorflow) (2.0.4)\n",
      "Requirement already satisfied: idna<4,>=2.5 in c:\\users\\igorv\\anaconda3\\lib\\site-packages (from requests<3,>=2.21.0->tensorboard<2.14,>=2.13->tensorflow-intel==2.13.0->tensorflow) (3.4)\n",
      "Requirement already satisfied: MarkupSafe>=2.1.1 in c:\\users\\igorv\\anaconda3\\lib\\site-packages (from werkzeug>=1.0.1->tensorboard<2.14,>=2.13->tensorflow-intel==2.13.0->tensorflow) (2.1.1)\n",
      "Requirement already satisfied: pyasn1<0.5.0,>=0.4.6 in c:\\users\\igorv\\anaconda3\\lib\\site-packages (from pyasn1-modules>=0.2.1->google-auth<3,>=1.6.3->tensorboard<2.14,>=2.13->tensorflow-intel==2.13.0->tensorflow) (0.4.8)\n",
      "Requirement already satisfied: oauthlib>=3.0.0 in c:\\users\\igorv\\anaconda3\\lib\\site-packages (from requests-oauthlib>=0.7.0->google-auth-oauthlib<1.1,>=0.5->tensorboard<2.14,>=2.13->tensorflow-intel==2.13.0->tensorflow) (3.2.2)\n",
      "Collecting tf-nightly\n",
      "  Using cached tf_nightly-2.15.0.dev20230808-cp310-cp310-win_amd64.whl (2.2 kB)\n",
      "Collecting tf-nightly-intel==2.15.0-dev20230808\n",
      "  Downloading tf_nightly_intel-2.15.0.dev20230808-cp310-cp310-win_amd64.whl (184.9 MB)\n",
      "     -------------------------------------- 184.9/184.9 MB 4.2 MB/s eta 0:00:00\n",
      "Requirement already satisfied: typing-extensions>=3.6.6 in c:\\users\\igorv\\anaconda3\\lib\\site-packages (from tf-nightly-intel==2.15.0-dev20230808->tf-nightly) (4.4.0)\n",
      "Requirement already satisfied: tensorflow-io-gcs-filesystem>=0.23.1 in c:\\users\\igorv\\anaconda3\\lib\\site-packages (from tf-nightly-intel==2.15.0-dev20230808->tf-nightly) (0.31.0)\n",
      "Requirement already satisfied: grpcio<2.0,>=1.24.3 in c:\\users\\igorv\\anaconda3\\lib\\site-packages (from tf-nightly-intel==2.15.0-dev20230808->tf-nightly) (1.56.2)\n",
      "Collecting ml-dtypes>=0.2.0\n",
      "  Downloading ml_dtypes-0.2.0-cp310-cp310-win_amd64.whl (938 kB)\n",
      "     -------------------------------------- 938.6/938.6 kB 6.6 MB/s eta 0:00:00\n",
      "Requirement already satisfied: astunparse>=1.6.0 in c:\\users\\igorv\\anaconda3\\lib\\site-packages (from tf-nightly-intel==2.15.0-dev20230808->tf-nightly) (1.6.3)\n",
      "Requirement already satisfied: six>=1.12.0 in c:\\users\\igorv\\anaconda3\\lib\\site-packages (from tf-nightly-intel==2.15.0-dev20230808->tf-nightly) (1.16.0)\n",
      "Requirement already satisfied: absl-py>=1.0.0 in c:\\users\\igorv\\anaconda3\\lib\\site-packages (from tf-nightly-intel==2.15.0-dev20230808->tf-nightly) (1.4.0)\n",
      "Collecting tf-estimator-nightly~=2.14.0.dev\n",
      "  Downloading tf_estimator_nightly-2.14.0.dev2023080308-py2.py3-none-any.whl (440 kB)\n",
      "     ------------------------------------- 440.9/440.9 kB 13.5 MB/s eta 0:00:00\n",
      "Requirement already satisfied: numpy>=1.23.5 in c:\\users\\igorv\\anaconda3\\lib\\site-packages (from tf-nightly-intel==2.15.0-dev20230808->tf-nightly) (1.23.5)\n",
      "Requirement already satisfied: gast!=0.5.0,!=0.5.1,!=0.5.2,>=0.2.1 in c:\\users\\igorv\\anaconda3\\lib\\site-packages (from tf-nightly-intel==2.15.0-dev20230808->tf-nightly) (0.4.0)\n",
      "Requirement already satisfied: protobuf!=4.21.0,!=4.21.1,!=4.21.2,!=4.21.3,!=4.21.4,!=4.21.5,<5.0.0dev,>=3.20.3 in c:\\users\\igorv\\anaconda3\\lib\\site-packages (from tf-nightly-intel==2.15.0-dev20230808->tf-nightly) (4.24.0)\n",
      "Requirement already satisfied: libclang>=13.0.0 in c:\\users\\igorv\\anaconda3\\lib\\site-packages (from tf-nightly-intel==2.15.0-dev20230808->tf-nightly) (16.0.6)\n",
      "Requirement already satisfied: h5py>=2.9.0 in c:\\users\\igorv\\anaconda3\\lib\\site-packages (from tf-nightly-intel==2.15.0-dev20230808->tf-nightly) (3.7.0)\n",
      "Requirement already satisfied: termcolor>=1.1.0 in c:\\users\\igorv\\anaconda3\\lib\\site-packages (from tf-nightly-intel==2.15.0-dev20230808->tf-nightly) (2.3.0)\n",
      "Collecting keras-nightly~=2.14.0.dev\n",
      "  Downloading keras_nightly-2.14.0.dev2023080207-py3-none-any.whl (1.7 MB)\n",
      "     ---------------------------------------- 1.7/1.7 MB 6.4 MB/s eta 0:00:00\n",
      "Collecting tb-nightly~=2.14.0.a\n",
      "  Downloading tb_nightly-2.14.0a20230808-py3-none-any.whl (5.5 MB)\n",
      "     ---------------------------------------- 5.5/5.5 MB 6.5 MB/s eta 0:00:00\n",
      "Requirement already satisfied: flatbuffers>=23.5.26 in c:\\users\\igorv\\anaconda3\\lib\\site-packages (from tf-nightly-intel==2.15.0-dev20230808->tf-nightly) (23.5.26)\n",
      "Requirement already satisfied: opt-einsum>=2.3.2 in c:\\users\\igorv\\anaconda3\\lib\\site-packages (from tf-nightly-intel==2.15.0-dev20230808->tf-nightly) (3.3.0)\n",
      "Requirement already satisfied: wrapt<1.15,>=1.11.0 in c:\\users\\igorv\\anaconda3\\lib\\site-packages (from tf-nightly-intel==2.15.0-dev20230808->tf-nightly) (1.14.1)\n",
      "Requirement already satisfied: setuptools in c:\\users\\igorv\\anaconda3\\lib\\site-packages (from tf-nightly-intel==2.15.0-dev20230808->tf-nightly) (65.6.3)\n",
      "Requirement already satisfied: google-pasta>=0.1.1 in c:\\users\\igorv\\anaconda3\\lib\\site-packages (from tf-nightly-intel==2.15.0-dev20230808->tf-nightly) (0.2.0)\n",
      "Requirement already satisfied: packaging in c:\\users\\igorv\\anaconda3\\lib\\site-packages (from tf-nightly-intel==2.15.0-dev20230808->tf-nightly) (22.0)\n",
      "Requirement already satisfied: wheel<1.0,>=0.23.0 in c:\\users\\igorv\\anaconda3\\lib\\site-packages (from astunparse>=1.6.0->tf-nightly-intel==2.15.0-dev20230808->tf-nightly) (0.38.4)\n",
      "Requirement already satisfied: werkzeug>=1.0.1 in c:\\users\\igorv\\anaconda3\\lib\\site-packages (from tb-nightly~=2.14.0.a->tf-nightly-intel==2.15.0-dev20230808->tf-nightly) (2.2.2)\n",
      "Requirement already satisfied: google-auth-oauthlib<1.1,>=0.5 in c:\\users\\igorv\\anaconda3\\lib\\site-packages (from tb-nightly~=2.14.0.a->tf-nightly-intel==2.15.0-dev20230808->tf-nightly) (1.0.0)\n",
      "Requirement already satisfied: google-auth<3,>=1.6.3 in c:\\users\\igorv\\anaconda3\\lib\\site-packages (from tb-nightly~=2.14.0.a->tf-nightly-intel==2.15.0-dev20230808->tf-nightly) (2.22.0)\n",
      "Requirement already satisfied: tensorboard-data-server<0.8.0,>=0.7.0 in c:\\users\\igorv\\anaconda3\\lib\\site-packages (from tb-nightly~=2.14.0.a->tf-nightly-intel==2.15.0-dev20230808->tf-nightly) (0.7.1)\n",
      "Requirement already satisfied: requests<3,>=2.21.0 in c:\\users\\igorv\\anaconda3\\lib\\site-packages (from tb-nightly~=2.14.0.a->tf-nightly-intel==2.15.0-dev20230808->tf-nightly) (2.28.1)\n",
      "Requirement already satisfied: markdown>=2.6.8 in c:\\users\\igorv\\anaconda3\\lib\\site-packages (from tb-nightly~=2.14.0.a->tf-nightly-intel==2.15.0-dev20230808->tf-nightly) (3.4.1)\n",
      "Requirement already satisfied: cachetools<6.0,>=2.0.0 in c:\\users\\igorv\\anaconda3\\lib\\site-packages (from google-auth<3,>=1.6.3->tb-nightly~=2.14.0.a->tf-nightly-intel==2.15.0-dev20230808->tf-nightly) (5.3.1)\n",
      "Requirement already satisfied: pyasn1-modules>=0.2.1 in c:\\users\\igorv\\anaconda3\\lib\\site-packages (from google-auth<3,>=1.6.3->tb-nightly~=2.14.0.a->tf-nightly-intel==2.15.0-dev20230808->tf-nightly) (0.2.8)\n",
      "Requirement already satisfied: urllib3<2.0 in c:\\users\\igorv\\anaconda3\\lib\\site-packages (from google-auth<3,>=1.6.3->tb-nightly~=2.14.0.a->tf-nightly-intel==2.15.0-dev20230808->tf-nightly) (1.26.14)\n",
      "Requirement already satisfied: rsa<5,>=3.1.4 in c:\\users\\igorv\\anaconda3\\lib\\site-packages (from google-auth<3,>=1.6.3->tb-nightly~=2.14.0.a->tf-nightly-intel==2.15.0-dev20230808->tf-nightly) (4.9)\n",
      "Requirement already satisfied: requests-oauthlib>=0.7.0 in c:\\users\\igorv\\anaconda3\\lib\\site-packages (from google-auth-oauthlib<1.1,>=0.5->tb-nightly~=2.14.0.a->tf-nightly-intel==2.15.0-dev20230808->tf-nightly) (1.3.1)\n",
      "Requirement already satisfied: idna<4,>=2.5 in c:\\users\\igorv\\anaconda3\\lib\\site-packages (from requests<3,>=2.21.0->tb-nightly~=2.14.0.a->tf-nightly-intel==2.15.0-dev20230808->tf-nightly) (3.4)\n",
      "Requirement already satisfied: charset-normalizer<3,>=2 in c:\\users\\igorv\\anaconda3\\lib\\site-packages (from requests<3,>=2.21.0->tb-nightly~=2.14.0.a->tf-nightly-intel==2.15.0-dev20230808->tf-nightly) (2.0.4)\n",
      "Requirement already satisfied: certifi>=2017.4.17 in c:\\users\\igorv\\anaconda3\\lib\\site-packages (from requests<3,>=2.21.0->tb-nightly~=2.14.0.a->tf-nightly-intel==2.15.0-dev20230808->tf-nightly) (2023.7.22)\n",
      "Requirement already satisfied: MarkupSafe>=2.1.1 in c:\\users\\igorv\\anaconda3\\lib\\site-packages (from werkzeug>=1.0.1->tb-nightly~=2.14.0.a->tf-nightly-intel==2.15.0-dev20230808->tf-nightly) (2.1.1)\n",
      "Requirement already satisfied: pyasn1<0.5.0,>=0.4.6 in c:\\users\\igorv\\anaconda3\\lib\\site-packages (from pyasn1-modules>=0.2.1->google-auth<3,>=1.6.3->tb-nightly~=2.14.0.a->tf-nightly-intel==2.15.0-dev20230808->tf-nightly) (0.4.8)\n",
      "Requirement already satisfied: oauthlib>=3.0.0 in c:\\users\\igorv\\anaconda3\\lib\\site-packages (from requests-oauthlib>=0.7.0->google-auth-oauthlib<1.1,>=0.5->tb-nightly~=2.14.0.a->tf-nightly-intel==2.15.0-dev20230808->tf-nightly) (3.2.2)\n",
      "Installing collected packages: tf-estimator-nightly, ml-dtypes, keras-nightly, tb-nightly, tf-nightly-intel, tf-nightly\n",
      "Successfully installed keras-nightly-2.14.0.dev2023080207 ml-dtypes-0.2.0 tb-nightly-2.14.0a20230808 tf-estimator-nightly-2.14.0.dev2023080308 tf-nightly-2.15.0.dev20230808 tf-nightly-intel-2.15.0.dev20230808\n"
     ]
    },
    {
     "name": "stdout",
     "output_type": "stream",
     "text": [
      "Requirement already satisfied: keras in c:\\users\\igorv\\anaconda3\\lib\\site-packages (2.13.1)\n"
     ]
    }
   ],
   "source": [
    "# установка всех необходимых пакетов\n",
    "!pip install tensorflow\n",
    "!pip install tf-nightly\n",
    "!pip install keras"
   ]
  },
  {
   "cell_type": "code",
   "execution_count": 2,
   "id": "d58b8f6d",
   "metadata": {},
   "outputs": [
    {
     "name": "stdout",
     "output_type": "stream",
     "text": [
      "WARNING:tensorflow:From C:\\Users\\igorv\\anaconda3\\lib\\site-packages\\tensorflow\\python\\ops\\distributions\\distribution.py:259: ReparameterizationType.__init__ (from tensorflow.python.ops.distributions.distribution) is deprecated and will be removed after 2019-01-01.\n",
      "Instructions for updating:\n",
      "The TensorFlow Distributions library has moved to TensorFlow Probability (https://github.com/tensorflow/probability). You should update all references to use `tfp.distributions` instead of `tf.distributions`.\n",
      "WARNING:tensorflow:From C:\\Users\\igorv\\anaconda3\\lib\\site-packages\\tensorflow\\python\\ops\\distributions\\bernoulli.py:165: RegisterKL.__init__ (from tensorflow.python.ops.distributions.kullback_leibler) is deprecated and will be removed after 2019-01-01.\n",
      "Instructions for updating:\n",
      "The TensorFlow Distributions library has moved to TensorFlow Probability (https://github.com/tensorflow/probability). You should update all references to use `tfp.distributions` instead of `tf.distributions`.\n"
     ]
    }
   ],
   "source": [
    "# Чтобы не использовать GPU прописываем следующее:\n",
    "import os\n",
    "os.environ['TF_CPP_MIN_LOG_LEVEL'] = '2'\n",
    "import numpy as np\n",
    "import matplotlib.pyplot as plt\n",
    "from tensorflow import keras\n",
    "from tensorflow.keras.layers import Dense"
   ]
  },
  {
   "cell_type": "code",
   "execution_count": 3,
   "id": "6ee3e03b",
   "metadata": {},
   "outputs": [],
   "source": [
    "c = np.array([-40, -10, 0, 8, 15, 22, 38])\n",
    "f = np.array([-40, 14, 32, 46, 59, 72, 100])"
   ]
  },
  {
   "cell_type": "code",
   "execution_count": 4,
   "id": "f946566a",
   "metadata": {},
   "outputs": [],
   "source": [
    "model = keras.Sequential()\n",
    "model.add(Dense(units=1, input_shape=(1,), activation='linear'))\n",
    "model.compile(loss='mean_squared_error', optimizer=keras.optimizers.Adam(0.1))"
   ]
  },
  {
   "cell_type": "code",
   "execution_count": 5,
   "id": "bc386bd5",
   "metadata": {},
   "outputs": [
    {
     "name": "stdout",
     "output_type": "stream",
     "text": [
      "обучение завершено\n"
     ]
    }
   ],
   "source": [
    "history = model.fit(c, f, epochs=500, verbose=0)\n",
    "print(\"обучение завершено\")"
   ]
  },
  {
   "cell_type": "code",
   "execution_count": 6,
   "id": "fb916ee8",
   "metadata": {},
   "outputs": [
    {
     "data": {
      "image/png": "[encoded data removed]",
      "text/plain": [
       "<Figure size 640x480 with 1 Axes>"
      ]
     },
     "metadata": {},
     "output_type": "display_data"
    }
   ],
   "source": [
    "plt.plot(history.history['loss'])\n",
    "plt.grid(True)\n",
    "plt.show()"
   ]
  },
  {
   "cell_type": "code",
   "execution_count": 7,
   "id": "4121d726",
   "metadata": {},
   "outputs": [
    {
     "name": "stdout",
     "output_type": "stream",
     "text": [
      "1/1 [==============================] - 0s 99ms/step\n",
      "[[211.33705]]\n"
     ]
    }
   ],
   "source": [
    "print(model.predict([100]))"
   ]
  },
  {
   "cell_type": "code",
   "execution_count": 8,
   "id": "daf2b560",
   "metadata": {},
   "outputs": [
    {
     "name": "stdout",
     "output_type": "stream",
     "text": [
      "[array([[1.820664]], dtype=float32), array([29.27064], dtype=float32)]\n"
     ]
    }
   ],
   "source": [
    "print(model.get_weights())"
   ]
  }
 ],
 "metadata": {
  "kernelspec": {
   "display_name": "Python 3 (ipykernel)",
   "language": "python",
   "name": "python3"
  },
  "language_info": {
   "codemirror_mode": {
    "name": "ipython",
    "version": 3
   },
   "file_extension": ".py",
   "mimetype": "text/x-python",
   "name": "python",
   "nbconvert_exporter": "python",
   "pygments_lexer": "ipython3",
   "version": "3.10.9"
  }
 },
 "nbformat": 4,
 "nbformat_minor": 5
}
