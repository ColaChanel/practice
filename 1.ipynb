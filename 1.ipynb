{
 "cells": [
  {
   "cell_type": "markdown",
   "id": "18243011",
   "metadata": {},
   "source": [
    "# Практическая работа 1. Настройка рабочего места"
   ]
  },
  {
   "cell_type": "code",
   "execution_count": 1,
   "id": "8e759a5e",
   "metadata": {},
   "outputs": [],
   "source": [
    "import math"
   ]
  },
  {
   "cell_type": "code",
   "execution_count": 2,
   "id": "a9552ce8",
   "metadata": {},
   "outputs": [
    {
     "name": "stdout",
     "output_type": "stream",
     "text": [
      "25\n",
      "7\n",
      "3\n",
      "10\n",
      "2.5\n"
     ]
    }
   ],
   "source": [
    "a = 5\n",
    "b = 2\n",
    "print(a ** b) # возведение в степень\n",
    "print(a + b) # сложение\n",
    "print(a - b) # вычитание\n",
    "print(a * b) # умножение\n",
    "print(a / b) # деление"
   ]
  },
  {
   "cell_type": "code",
   "execution_count": 3,
   "id": "bbfff836",
   "metadata": {},
   "outputs": [
    {
     "name": "stdout",
     "output_type": "stream",
     "text": [
      "True\n",
      "False\n",
      "False\n",
      "True\n"
     ]
    }
   ],
   "source": [
    "a = 5\n",
    "b = 2\n",
    "print(a > b) # больше\n",
    "print(a < b) # меньше\n",
    "print(a == b) # равно\n",
    "print(a != b) # не равно"
   ]
  },
  {
   "cell_type": "code",
   "execution_count": 4,
   "id": "c336f2ae",
   "metadata": {},
   "outputs": [
    {
     "name": "stdout",
     "output_type": "stream",
     "text": [
      "Hello, world! \n",
      "Введите число: 53\n",
      "Вы ввели число 53\n"
     ]
    }
   ],
   "source": [
    "print(\"Hello, world! \") # вывод строки\n",
    "x = input('Введите число: ') # ввод данных\n",
    "print('Вы ввели число '+ x) # вывод строки с переменной"
   ]
  }
 ],
 "metadata": {
  "kernelspec": {
   "display_name": "Python 3 (ipykernel)",
   "language": "python",
   "name": "python3"
  },
  "language_info": {
   "codemirror_mode": {
    "name": "ipython",
    "version": 3
   },
   "file_extension": ".py",
   "mimetype": "text/x-python",
   "name": "python",
   "nbconvert_exporter": "python",
   "pygments_lexer": "ipython3",
   "version": "3.10.9"
  }
 },
 "nbformat": 4,
 "nbformat_minor": 5
}
